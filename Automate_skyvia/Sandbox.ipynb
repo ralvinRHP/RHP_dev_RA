{
 "cells": [
  {
   "cell_type": "code",
   "execution_count": 43,
   "metadata": {},
   "outputs": [
    {
     "name": "stdout",
     "output_type": "stream",
     "text": [
      "Connection established successfully!\n",
      "File read into DataFrame successfully\n",
      "Connection closed.\n",
      "Source data shape: (446, 42)\n",
      "Connected to Salesforce sandbox\n",
      "Connected to Salesforce Prod\n",
      "pulling updated Provider_TIN__c table\n",
      "pulled Provider_TIN__c\n",
      "Merged TIN\n",
      "pulling updated Groups_Clients__c table\n",
      "pulled Groups_Clients__c\n",
      "Merged Patient Group/Policy Number\n",
      "pulling updated Jurisdiction__c table\n",
      "pulled Jurisdiction__c\n",
      "Merged JurisdictionState\n",
      "pulling updated DRG__c table\n",
      "pulled DRG__c\n",
      "Merged DRG\n",
      "pulling updated Provider_Specialty__c table\n",
      "pulled Provider_Specialty__c\n",
      "Merged Billing Provider Taxonomy\n"
     ]
    }
   ],
   "source": [
    "\n",
    "from concurrent.futures import ThreadPoolExecutor, as_completed\n",
    "import pandas as pd  # Ensure this is imported if using pandas\n",
    "\n",
    "import os\n",
    "os.chdir('/mnt/c/Users/ralvin/OneDrive - Reliant Health Partners/Documents/RHP_dev_RA/Automate_skyvia')\n",
    "import pandas as pd\n",
    "from simple_salesforce import Salesforce, SalesforceLogin\n",
    "import pyodbc, sys, time \n",
    "import requests\n",
    "import numpy as np\n",
    "from datetime import datetime\n",
    "from helper_functions_v3 import create_df, updated_data_pull, upsert, delete_record, insert_records, salesforce_connection, read_sftp_data, data_pull\n",
    "import configparser\n",
    "import json\n",
    "import paramiko\n",
    "import io\n",
    "\n",
    "pd.set_option('display.max_rows', None) \n",
    "pd.set_option('display.max_columns', None) \n",
    "\n",
    "\n",
    "##### retrieve source data\n",
    "config = configparser.ConfigParser()\n",
    "config.read('config.ini')\n",
    "sftp_config = config['sftp']\n",
    "mapping_config = config['mappings']\n",
    "host = sftp_config.get('host')\n",
    "port = sftp_config.getint('port', fallback=22) \n",
    "username = sftp_config.get('user')\n",
    "password = sftp_config.get('password')\n",
    "remote_path = sftp_config.get('remote_path')\n",
    "json_path = mapping_config.get('json_file_path')\n",
    "\n",
    "\n",
    "Source_data =  read_sftp_data(remote_path, host, port, username, password)\n",
    "print(f'Source data shape: {Source_data.shape}')\n",
    "\n",
    "\n",
    "## get data mappings \n",
    "with open(json_path, 'r') as f:\n",
    "    data = json.load(f)\n",
    "\n",
    "mappings = {k:v for k,v in data.items()}\n",
    "Claims_map = mappings['Claim_Object_Map']\n",
    "Account_map = mappings['Account_Object_Map']\n",
    "Povider_map = mappings['Provider_Object_Map']\n",
    "lines_map = mappings['Line_Item_Object_Map']\n",
    "\n",
    "## sf connection\n",
    "sf = salesforce_connection(sandbox=True)\n",
    "sf_prod = salesforce_connection(sandbox=False)\n",
    "\n",
    "\n",
    "def format_date(value):\n",
    "    try:\n",
    "        # Attempt to parse and format the date\n",
    "        return datetime.strptime(value, '%m/%d/%Y').strftime('%Y-%m-%d')\n",
    "    except (ValueError, TypeError):\n",
    "        # Return the value as-is if it’s not a valid date\n",
    "        return value\n",
    "\n",
    "\n",
    "def insert_records(new_df, keys, sf):\n",
    "    object_name = list(keys.keys())[0]\n",
    "    sf_object = getattr(sf, object_name)\n",
    "    object_key = list(keys.values())[0]\n",
    "\n",
    "    error_logs = []\n",
    "    new_ids = []\n",
    "\n",
    "    def process_record(record):\n",
    "        # Ensure NPI__c is properly formatted as a string\n",
    "        if \"NPI__c\" in record:\n",
    "            record[\"NPI__c\"] = str(int(record[\"NPI__c\"])) if pd.notnull(record[\"NPI__c\"]) else None\n",
    "\n",
    "        # Exclude the key field and replace NaN with None\n",
    "        record_insert = {k: (None if pd.isna(v) else v) for k, v in record.items()}\n",
    "        # Format date fields\n",
    "        record_insert = {k: format_date(v) if 'Date' in k or 'DOS' in k else v for k, v in record_insert.items()}\n",
    "\n",
    "        try:\n",
    "            # Perform insert\n",
    "            new_id = sf_object.create(record_insert)\n",
    "            return new_id['id'], None\n",
    "        except Exception as e:\n",
    "            return None, e\n",
    "\n",
    "    try:\n",
    "        with ThreadPoolExecutor(max_workers=10) as executor:  # Adjust max_workers as needed\n",
    "            future_to_record = {\n",
    "                executor.submit(process_record, new_df.iloc[i, :].to_dict()): i\n",
    "                for i in range(len(new_df))\n",
    "            }\n",
    "\n",
    "            for future in as_completed(future_to_record):\n",
    "                idx = future_to_record[future]\n",
    "                try:\n",
    "                    new_id, error = future.result()\n",
    "                    if new_id:\n",
    "                        new_ids.append(new_id)\n",
    "                    if error:\n",
    "                        error_logs.append((idx, error))\n",
    "                except Exception as e:\n",
    "                    print(f\"Unexpected error during future processing: {e}\")\n",
    "                    error_logs.append((idx, e))\n",
    "\n",
    "    except Exception as e:\n",
    "        print(f\"Unexpected error during processing: {e}\")\n",
    "        error_logs.append(e)\n",
    "\n",
    "    print(f\"Total records inserted: {len(new_ids)}\")\n",
    "    print(f\"Total errors logged: {len(error_logs)}\")\n",
    "    return new_ids, error_logs\n",
    "\n",
    "\n",
    "\n",
    "map_claims_table, keys = create_df(Claims_map, Source_data, sf)\n"
   ]
  },
  {
   "cell_type": "code",
   "execution_count": 46,
   "metadata": {},
   "outputs": [
    {
     "name": "stdout",
     "output_type": "stream",
     "text": [
      "Total records inserted: 103\n",
      "Total errors logged: 6\n"
     ]
    }
   ],
   "source": [
    "new_ids, error_logs = insert_records(map_claims_table.drop_duplicates(), keys, sf) ###insert new claims records\n"
   ]
  },
  {
   "cell_type": "code",
   "execution_count": 47,
   "metadata": {},
   "outputs": [
    {
     "data": {
      "text/plain": [
       "[(25,\n",
       "  simple_salesforce.exceptions.SalesforceMalformedRequest('https://relianthealthpartners2020--tctdev.sandbox.my.salesforce.com/services/data/v59.0/sobjects/Claims__c/',\n",
       "                                                          400,\n",
       "                                                          'Claims__c',\n",
       "                                                          [{'message': 'Required fields are missing: [Group_Client__c]',\n",
       "                                                            'errorCode': 'REQUIRED_FIELD_MISSING',\n",
       "                                                            'fields': ['Group_Client__c']}])),\n",
       " (46,\n",
       "  simple_salesforce.exceptions.SalesforceMalformedRequest('https://relianthealthpartners2020--tctdev.sandbox.my.salesforce.com/services/data/v59.0/sobjects/Claims__c/',\n",
       "                                                          400,\n",
       "                                                          'Claims__c',\n",
       "                                                          [{'message': 'Required fields are missing: [Group_Client__c]',\n",
       "                                                            'errorCode': 'REQUIRED_FIELD_MISSING',\n",
       "                                                            'fields': ['Group_Client__c']}])),\n",
       " (49,\n",
       "  simple_salesforce.exceptions.SalesforceMalformedRequest('https://relianthealthpartners2020--tctdev.sandbox.my.salesforce.com/services/data/v59.0/sobjects/Claims__c/',\n",
       "                                                          400,\n",
       "                                                          'Claims__c',\n",
       "                                                          [{'message': 'Required fields are missing: [Group_Client__c]',\n",
       "                                                            'errorCode': 'REQUIRED_FIELD_MISSING',\n",
       "                                                            'fields': ['Group_Client__c']}])),\n",
       " (68,\n",
       "  simple_salesforce.exceptions.SalesforceMalformedRequest('https://relianthealthpartners2020--tctdev.sandbox.my.salesforce.com/services/data/v59.0/sobjects/Claims__c/',\n",
       "                                                          400,\n",
       "                                                          'Claims__c',\n",
       "                                                          [{'message': 'Required fields are missing: [Group_Client__c]',\n",
       "                                                            'errorCode': 'REQUIRED_FIELD_MISSING',\n",
       "                                                            'fields': ['Group_Client__c']}])),\n",
       " (86,\n",
       "  simple_salesforce.exceptions.SalesforceMalformedRequest('https://relianthealthpartners2020--tctdev.sandbox.my.salesforce.com/services/data/v59.0/sobjects/Claims__c/',\n",
       "                                                          400,\n",
       "                                                          'Claims__c',\n",
       "                                                          [{'message': 'Required fields are missing: [Group_Client__c]',\n",
       "                                                            'errorCode': 'REQUIRED_FIELD_MISSING',\n",
       "                                                            'fields': ['Group_Client__c']}])),\n",
       " (107,\n",
       "  simple_salesforce.exceptions.SalesforceMalformedRequest('https://relianthealthpartners2020--tctdev.sandbox.my.salesforce.com/services/data/v59.0/sobjects/Claims__c/',\n",
       "                                                          400,\n",
       "                                                          'Claims__c',\n",
       "                                                          [{'message': 'Required fields are missing: [Group_Client__c]',\n",
       "                                                            'errorCode': 'REQUIRED_FIELD_MISSING',\n",
       "                                                            'fields': ['Group_Client__c']}]))]"
      ]
     },
     "execution_count": 47,
     "metadata": {},
     "output_type": "execute_result"
    }
   ],
   "source": [
    "error_logs"
   ]
  },
  {
   "cell_type": "code",
   "execution_count": null,
   "metadata": {},
   "outputs": [],
   "source": []
  },
  {
   "cell_type": "code",
   "execution_count": 25,
   "metadata": {},
   "outputs": [
    {
     "name": "stdout",
     "output_type": "stream",
     "text": [
      "Task Thread-0 is running\n",
      "Task Thread-1 is running\n",
      "Task Thread-2 is running\n",
      "Task Thread-3 is running\n",
      "Task Thread-4 is running\n",
      "All threads completed.\n"
     ]
    }
   ],
   "source": [
    "import threading\n",
    "\n",
    "def task(name):\n",
    "    print(f\"Task {name} is running\")\n",
    "\n",
    "# Create and manage threads manually\n",
    "threads = []\n",
    "for i in range(5):\n",
    "    thread = threading.Thread(target=task, args=(f\"Thread-{i}\",))\n",
    "    threads.append(thread)\n",
    "    thread.start()\n",
    "\n",
    "for thread in threads:\n",
    "    thread.join()\n",
    "print(\"All threads completed.\")\n",
    "\n",
    "\n"
   ]
  },
  {
   "cell_type": "code",
   "execution_count": 26,
   "metadata": {},
   "outputs": [
    {
     "data": {
      "text/plain": [
       "[<Thread(Thread-18 (task), stopped 140415685621440)>,\n",
       " <Thread(Thread-19 (task), stopped 140415685621440)>,\n",
       " <Thread(Thread-20 (task), stopped 140415685621440)>,\n",
       " <Thread(Thread-21 (task), stopped 140415685621440)>,\n",
       " <Thread(Thread-22 (task), stopped 140415685621440)>]"
      ]
     },
     "execution_count": 26,
     "metadata": {},
     "output_type": "execute_result"
    }
   ],
   "source": [
    "threads"
   ]
  },
  {
   "cell_type": "code",
   "execution_count": 24,
   "metadata": {},
   "outputs": [
    {
     "name": "stdout",
     "output_type": "stream",
     "text": [
      "Task Task-0 is running\n",
      "Task Task-1 is running\n",
      "Task Task-2 is running\n",
      "Task Task-3 is running\n",
      "Task Task-4 is running\n",
      "All tasks completed.\n"
     ]
    }
   ],
   "source": [
    "from concurrent.futures import ThreadPoolExecutor\n",
    "\n",
    "def task(name):\n",
    "    print(f\"Task {name} is running\")\n",
    "\n",
    "# Use ThreadPoolExecutor to manage threads\n",
    "with ThreadPoolExecutor(max_workers=3) as executor:\n",
    "    names = [f\"Task-{i}\" for i in range(5)]\n",
    "    executor.map(task, names)\n",
    "print(\"All tasks completed.\")\n"
   ]
  },
  {
   "cell_type": "code",
   "execution_count": null,
   "metadata": {},
   "outputs": [],
   "source": []
  },
  {
   "cell_type": "code",
   "execution_count": null,
   "metadata": {},
   "outputs": [],
   "source": [
    "\n",
    "                  "
   ]
  },
  {
   "cell_type": "code",
   "execution_count": null,
   "metadata": {},
   "outputs": [],
   "source": []
  }
 ],
 "metadata": {
  "kernelspec": {
   "display_name": "Python 3 (ipykernel)",
   "language": "python",
   "name": "python3"
  },
  "language_info": {
   "codemirror_mode": {
    "name": "ipython",
    "version": 3
   },
   "file_extension": ".py",
   "mimetype": "text/x-python",
   "name": "python",
   "nbconvert_exporter": "python",
   "pygments_lexer": "ipython3",
   "version": "3.12.3"
  }
 },
 "nbformat": 4,
 "nbformat_minor": 2
}
